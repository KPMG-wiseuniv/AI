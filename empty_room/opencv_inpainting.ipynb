{
 "cells": [
  {
   "cell_type": "code",
   "execution_count": null,
   "metadata": {},
   "outputs": [],
   "source": [
    "import cv2\n",
    "import numpy as np\n",
    "import matplotlib.pyplot as plt\n",
    "input_path='/home/siwoo/Desktop/kpmg_image/empty_room/'\n",
    "output_path='/home/siwoo/Desktop/kpmg_image/inpainting/'\n",
    "\n",
    "import os\n",
    "file_list = os.listdir('/home/siwoo/Desktop/kpmg_image/empty_room/')\n",
    "\n",
    "for i,file in enumerate(file_list):\n",
    "    img=cv2.imread(input_path+'image/'+file)\n",
    "    plt.imshow(img[:,:,::-1],'gray')\n",
    "    plt.axis('off')\n",
    "    plt.savefig(output_path+'image/'+file,bbox_inches='tight')\n",
    "    noise=cv2.imread(input_path+'mask/'+file,0)\n",
    "    noise=cv2.resize(noise,(img.shape[1],img.shape[0]))\n",
    "    print(noise.shape==img.shape)\n",
    "    plt.imshow(noise,'gray')\n",
    "    plt.axis('off')\n",
    "    plt.savefig(output_path+'mask/'+file,bbox_inches='tight')\n",
    "    dst=cv2.inpaint(img,noise,3,cv2.INPAINT_TELEA)\n",
    "    plt.imshow(dst[:,:,::-1])\n",
    "    plt.axis('off')\n",
    "    plt.savefig(output_path+'output/'+file,bbox_inches='tight')"
   ]
  }
 ],
 "metadata": {
  "kernelspec": {
   "display_name": "Python [conda env:machinelearning] *",
   "language": "python",
   "name": "conda-env-machinelearning-py"
  },
  "language_info": {
   "codemirror_mode": {
    "name": "ipython",
    "version": 3
   },
   "file_extension": ".py",
   "mimetype": "text/x-python",
   "name": "python",
   "nbconvert_exporter": "python",
   "pygments_lexer": "ipython3",
   "version": "3.7.7"
  }
 },
 "nbformat": 4,
 "nbformat_minor": 4
}
