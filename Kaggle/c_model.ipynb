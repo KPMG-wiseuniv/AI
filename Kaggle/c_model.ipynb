{
 "cells": [
  {
   "cell_type": "code",
   "execution_count": 1,
   "metadata": {},
   "outputs": [],
   "source": [
    "import torch\n",
    "import torch.nn as nn\n",
    "import torch.nn.functional as F\n",
    "\n",
    "class CModel(nn.Module):\n",
    "    def __init__(self, num_classes):\n",
    "        super(CModel, self).__init__()\n",
    "        self.module_list = nn.ModuleList([CBlock(3, 8),\n",
    "                                          CBlock((3**1)*8, (3**1)*8),\n",
    "                                          CBlock((3**2)*8, (3**2)*8),\n",
    "                                          CBlock((3**3)*8, (3**3)*8),\n",
    "                                          CBlock((3**4)*8, (3**4)*8)])\n",
    "        self.classifier = nn.Sequential(torch.nn.Linear((3**5)*8, 64, bias=True),\n",
    "                                        torch.nn.PReLU(),\n",
    "                                        torch.nn.Dropout(0.3),\n",
    "                                        torch.nn.Linear(64, num_classes, bias=True),\n",
    "                                        torch.nn.Sigmoid())\n",
    "\n",
    "    def forward(self, x):\n",
    "        x = self.module_list[0](x)\n",
    "        x = self.module_list[1](x)\n",
    "        x = self.module_list[2](x)\n",
    "        x = self.module_list[3](x)\n",
    "        x = self.module_list[4](x)\n",
    "        x = self.classifier(x)\n",
    "        return x\n",
    "\n",
    "class CBlock(nn.Module):\n",
    "    def __init__(self, in_channels, out_channels):\n",
    "        super(CBlock, self).__init__()\n",
    "        self.branch1x1 = BasicConv2d(in_channels, out_channels, kernel_size=1, padding=0)\n",
    "        self.branch3x3 = BasicConv2d(in_channels, out_channels, kernel_size=3, padding=1)\n",
    "        self.branch5x5 = BasicConv2d(in_channels, out_channels, kernel_size=5, padding=2)\n",
    "        self.branch_out_pool = nn.MaxPool2d(kernel_size=3, stride=1, padding=1)\n",
    "\n",
    "    def forward(self, x):\n",
    "        branch1x1 = self.branch1x1(x)\n",
    "        branch3x3 = self.branch3x3(x)\n",
    "        branch5x5 = self.branch5x5(x)\n",
    "        branch_out = torch.cat([branch1x1, branch3x3, branch5x5], dim=1)\n",
    "        branch_out_pool = self.branch_out_pool(branch_out)\n",
    "        return branch_out_pool\n",
    "\n",
    "class BasicConv2d(nn.Module):\n",
    "    def __init__(self, in_channels, out_channels, **kwargs):\n",
    "        super(BasicConv2d, self).__init__()\n",
    "        self.conv = nn.Conv2d(in_channels, out_channels, bias=False, **kwargs)\n",
    "        #self.bn = nn.BatchNorm2d(out_channels, eps=0.001)\n",
    "    def forward(self, x):\n",
    "        x = self.conv(x)\n",
    "        #x = self.bn(x)\n",
    "        return F.relu(x, inplace=True)\n",
    "\n",
    "#cmodel = CModel(2)\n",
    "#cmodel(torch.Tensor(10,3,128,128).uniform_())"
   ]
  }
 ],
 "metadata": {
  "kernelspec": {
   "display_name": "Python [conda env:machinelearning] *",
   "language": "python",
   "name": "conda-env-machinelearning-py"
  },
  "language_info": {
   "codemirror_mode": {
    "name": "ipython",
    "version": 3
   },
   "file_extension": ".py",
   "mimetype": "text/x-python",
   "name": "python",
   "nbconvert_exporter": "python",
   "pygments_lexer": "ipython3",
   "version": "3.7.7"
  }
 },
 "nbformat": 4,
 "nbformat_minor": 4
}
